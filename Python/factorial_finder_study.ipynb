{
 "cells": [
  {
   "cell_type": "markdown",
   "id": "1569344c-b177-40ce-a78b-474d20e7aa61",
   "metadata": {},
   "source": [
    "# Factorial Finder \n",
    "**By** [Breno D. Chrispim](https://github.com/DChrispim)\n",
    "\n",
    "## Information \n",
    "**Task:** The Factorial of a positive integer, n, is defined as the product of the sequence n, n-1, n-2, ..., 1 and the factorial of zero, 0, is defined as being 1. Solve this using both loops and recursion.\n",
    "\n",
    "**Source for project idea:** Final Capstone project from the Udemy's course [2022 Complete Python Bootcamp From Zero to Hero in Python](https://www.udemy.com/course/complete-python-bootcamp/). The suggestions can be found at [Projects](http://nbviewer.ipython.org/github/jmportilla/Complete-Python-Bootcamp/blob/master/Final%20Capstone%20Projects/Final%20Capstone%20Project%20Ideas.ipynb) and ware written by various users in Python.\n",
    "\n",
    "## Code Explanation (or pseudocode)\n",
    "*Write here*\n",
    "\n",
    "## Implementation"
   ]
  },
  {
   "cell_type": "code",
   "execution_count": 2,
   "id": "a6fa7996",
   "metadata": {},
   "outputs": [],
   "source": [
    "import numpy as np # For measurement of time efficiency against NumPy factorial function\n",
    "\n",
    "##-------------------------##\n",
    "#     Factorial finder\n",
    "##-------------------------##\n",
    "\n",
    "##--------------------------------------------##\n",
    "#   Function factorial_while_loop definition\n",
    "##--------------------------------------------##\n",
    "\n",
    "def factorial_while_loop(number):\n",
    "    \"\"\"\n",
    "    Function factorial_while_loop that computes the factorial of a given number using while loop.\n",
    "    (A while loop calls itself until a certain condition is furfiled).\n",
    "    \"\"\"\n",
    "    \n",
    "    # Verify if the input is a positive number. The isnumeric method returns True if all elements of the string are numeric (0-9).\n",
    "    if not str(number).isnumeric():\n",
    "        return print(\"Please input a positive number.\")\n",
    "    \n",
    "    # Since 0!=1!=1 it is useful to start with the value 1 in the factorial computation\n",
    "    result = 1                   # This value will be update at each iteraction\n",
    "    \n",
    "    # Initiate the recursion\n",
    "    while number > 1:            # Define the recursive for n greater than one, the recursion will subtract 1 at each iteration\n",
    "        \n",
    "        result = result * number # Multiply the previous result with the next number\n",
    "        number -= 1              # Updates the number by subtracting 1\n",
    "    \n",
    "    # Return the result\n",
    "    return result\n",
    "\n",
    "##--------------------------------------------##\n",
    "#   Function factorial_for_loop definition\n",
    "##--------------------------------------------##\n",
    "\n",
    "def factorial_for_loop(number):\n",
    "    \"\"\"\n",
    "    Function factorial_for_loop that computes the factorial of a given number using for loop.\n",
    "    (A for loop calls itself a certain number of predefined times).\n",
    "    \"\"\"\n",
    "    # Verify if the input is a positive number. The isnumeric method returns True if all elements of the string are numeric (0-9).\n",
    "    if not str(number).isnumeric():\n",
    "        return print(\"Please input a positive number.\")\n",
    "    \n",
    "    # Since 0!=1!=1 it is useful to start with the value 1 in the factorial computation\n",
    "    result = 1                   # This value will be update at each iteraction\n",
    "    \n",
    "    for i in range(1,number+1):  # Define the range of the loop. The +1 includes the last index\n",
    "        \n",
    "        result = result * i      # Multiply the previous result with the next number\n",
    "    \n",
    "    # Return the result\n",
    "    return result\n",
    "\n",
    "##--------------------------------------------##\n",
    "#   Function factorial_recursion definition\n",
    "##--------------------------------------------##\n",
    "\n",
    "def factorial_recursion(number):\n",
    "    \"\"\"\n",
    "    Function factorial_recursion that computes the factorial of a given number using a recursion loop.\n",
    "    (A recursion loop calls the function itself until stable point is achieved).\n",
    "    \"\"\"\n",
    "    # Verify if the input is a positive number. The isnumeric method returns True if all elements of the string are numeric (0-9).\n",
    "    if not str(number).isnumeric():\n",
    "        return print(\"Please input a positive number.\")\n",
    "    \n",
    "    elif (number == 0) or (number == 1): # Since 0!=1!=1 it is useful to start with the value 1 in the factorial computation\n",
    "        return 1                        # This will end the recursion          \n",
    "    \n",
    "    else: \n",
    "        return number * factorial_recursion(number-1) # Multiply the previous result with the next number"
   ]
  },
  {
   "cell_type": "markdown",
   "id": "89b5a524",
   "metadata": {},
   "source": [
    "We can test the function for some values"
   ]
  },
  {
   "cell_type": "code",
   "execution_count": 27,
   "id": "d9f6e192",
   "metadata": {},
   "outputs": [
    {
     "data": {
      "text/plain": [
       "{'np.math.factorial': <function math.factorial(x, /)>,\n",
       " 'factorial_while_loop': <function __main__.factorial_while_loop(number)>,\n",
       " 'factorial_for_loop': <function __main__.factorial_for_loop(number)>,\n",
       " 'factorial_recursion': <function __main__.factorial_recursion(number)>}"
      ]
     },
     "execution_count": 27,
     "metadata": {},
     "output_type": "execute_result"
    }
   ],
   "source": [
    "{\"np.math.factorial\":np.math.factorial,\n",
    "                       \"factorial_while_loop\":factorial_while_loop,\n",
    "                       \"factorial_for_loop\":factorial_for_loop,\n",
    "                       \"factorial_recursion\":factorial_recursion}"
   ]
  },
  {
   "cell_type": "code",
   "execution_count": 32,
   "id": "557afd25",
   "metadata": {},
   "outputs": [
    {
     "name": "stdout",
     "output_type": "stream",
     "text": [
      "For n = 5\n",
      "The results with the function np.math.factorial is: 120\n",
      "The results with the function factorial_while_loop is: 120\n",
      "The results with the function factorial_for_loop is: 120\n",
      "The results with the function factorial_recursion is: 120\n"
     ]
    }
   ],
   "source": [
    "# Verification\n",
    "number = 5\n",
    "print(\"For n = {}\".format(number))\n",
    "for func_name, func in {\"np.math.factorial\":np.math.factorial,\n",
    "                       \"factorial_while_loop\":factorial_while_loop,\n",
    "                       \"factorial_for_loop\":factorial_for_loop,\n",
    "                       \"factorial_recursion\":factorial_recursion}.items():\n",
    "    print(\"The results with the function {} is: {}\".format(func_name,func(number)))"
   ]
  },
  {
   "cell_type": "markdown",
   "id": "2d9d6864",
   "metadata": {},
   "source": [
    "Or we can verify an array of numbers and return if the results are all the same"
   ]
  },
  {
   "cell_type": "code",
   "execution_count": 35,
   "id": "c9596f97",
   "metadata": {},
   "outputs": [],
   "source": [
    "##---------------------------------------------------##\n",
    "#  Function to test different function of factorial\n",
    "##---------------------------------------------------##\n",
    "\n",
    "def test_factorial(number):\n",
    "    \"\"\"\n",
    "    This function call the functions factorial_while_loop, factorial_for_loop and factorial_recursion against np.math.factorial to compare the results up to an input number.\n",
    "    The comparison is done for numbers between 0 and the input number.\n",
    "    \"\"\"\n",
    "    \n",
    "    # Use the input value to create an array of integers up to that number\n",
    "    test_array = np.array(range(number+1))\n",
    "    \n",
    "    # Create the boolean for verify is the results are the same.\n",
    "    check_list = []\n",
    "    factorial_list = []\n",
    "    func_dict = {\"factorial_while_loop\":factorial_while_loop,\"factorial_for_loop\":factorial_for_loop,\"factorial_recursion\":factorial_recursion}\n",
    "    \n",
    "    \n",
    "    for test_number in test_array:\n",
    "        correct_factorial = np.math.factorial(test_number)\n",
    "        factorial_list.append(correct_factorial)\n",
    "        \n",
    "        for func_name, func in func_dict.items():\n",
    "            if func(test_number) != correct_factorial: # Check the value against the NumPy function\n",
    "                check_list.append(False)               # Change the boolean if the values are different\n",
    "                                  \n",
    "        else:\n",
    "            check_list.append(True)\n",
    "\n",
    "    # If any value from the list results in a different number\n",
    "    if False in check_list:\n",
    "        return print(\"The functions are the not the same\")\n",
    "    \n",
    "    # If all values are the same\n",
    "    else:\n",
    "        print(\"The factorial of the numbers {} are {}\".format(list(test_array),factorial_list))\n",
    "        print(\"The functions are the same for n up to {}\".format(number))"
   ]
  },
  {
   "cell_type": "code",
   "execution_count": 36,
   "id": "401e3623",
   "metadata": {},
   "outputs": [
    {
     "name": "stdout",
     "output_type": "stream",
     "text": [
      "The factorial of the numbers [0, 1, 2, 3, 4, 5] are [1, 1, 2, 6, 24, 120]\n",
      "The functions are the same for n up to 5\n"
     ]
    }
   ],
   "source": [
    "test_factorial(5)"
   ]
  },
  {
   "cell_type": "markdown",
   "id": "40ba1985",
   "metadata": {},
   "source": [
    "Now we can ask: Which code is faster? We can use the magic comanda %%timeit to findout."
   ]
  },
  {
   "cell_type": "code",
   "execution_count": 5,
   "id": "5e89c688",
   "metadata": {},
   "outputs": [
    {
     "name": "stdout",
     "output_type": "stream",
     "text": [
      "72.2 ns ± 0.517 ns per loop (mean ± std. dev. of 7 runs, 10,000,000 loops each)\n"
     ]
    }
   ],
   "source": [
    "%%timeit\n",
    "np.math.factorial(10)"
   ]
  },
  {
   "cell_type": "code",
   "execution_count": 37,
   "id": "7e8615ba",
   "metadata": {},
   "outputs": [
    {
     "name": "stdout",
     "output_type": "stream",
     "text": [
      "692 ns ± 11.9 ns per loop (mean ± std. dev. of 7 runs, 1,000,000 loops each)\n"
     ]
    }
   ],
   "source": [
    "%%timeit\n",
    "factorial_while_loop(10)"
   ]
  },
  {
   "cell_type": "code",
   "execution_count": 38,
   "id": "f0cf9115",
   "metadata": {},
   "outputs": [
    {
     "name": "stdout",
     "output_type": "stream",
     "text": [
      "570 ns ± 10.3 ns per loop (mean ± std. dev. of 7 runs, 1,000,000 loops each)\n"
     ]
    }
   ],
   "source": [
    "%%timeit\n",
    "factorial_for_loop(10)"
   ]
  },
  {
   "cell_type": "code",
   "execution_count": 39,
   "id": "0093cc8b",
   "metadata": {},
   "outputs": [
    {
     "name": "stdout",
     "output_type": "stream",
     "text": [
      "2.15 µs ± 27.4 ns per loop (mean ± std. dev. of 7 runs, 100,000 loops each)\n"
     ]
    }
   ],
   "source": [
    "%%timeit\n",
    "factorial_recursion(10)"
   ]
  },
  {
   "cell_type": "markdown",
   "id": "423a052c",
   "metadata": {},
   "source": [
    "NumPy built-in function is faster!"
   ]
  }
 ],
 "metadata": {
  "kernelspec": {
   "display_name": "Python 3 (ipykernel)",
   "language": "python",
   "name": "python3"
  },
  "language_info": {
   "codemirror_mode": {
    "name": "ipython",
    "version": 3
   },
   "file_extension": ".py",
   "mimetype": "text/x-python",
   "name": "python",
   "nbconvert_exporter": "python",
   "pygments_lexer": "ipython3",
   "version": "3.9.12"
  }
 },
 "nbformat": 4,
 "nbformat_minor": 5
}
