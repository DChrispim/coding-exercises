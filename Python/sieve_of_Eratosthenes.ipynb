{
 "cells": [
  {
   "cell_type": "markdown",
   "id": "47c63b70-b8fa-42dc-b591-a94e4f893e9c",
   "metadata": {
    "tags": []
   },
   "source": [
    "# Sieve of Eratosthenes\n",
    "**By** [Breno D. Chrispim](https://github.com/DChrispim)\n",
    "\n",
    "## Information \n",
    "**Taks:** Given an integer n, return a list of all prime numbers up to n. Use The sieve of Eratosthenes stratege (one of the most efficient ways to find all of the smaller primes, below 10 million or so).\n",
    "\n",
    "**Source for project idea:** Final Capstone project from the Udemy's course [2022 Complete Python Bootcamp From Zero to Hero in Python](https://www.udemy.com/course/complete-python-bootcamp/) (GitHub repository at [jmportilla/Complete-Python-Bootcamp](https://github.com/jmportilla/Complete-Python-Bootcamp)).\n",
    "\n",
    "## Code Explanation (or pseudocode)\n",
    "From wikipedia: https://en.wikipedia.org/wiki/Sieve_of_Eratosthenes:\n",
    "\n",
    "To find all the prime numbers less than or equal to a given integer n by Eratosthenes' method:\n",
    "\n",
    "- Create a list of consecutive integers from 2 through n: (2, 3, 4, ..., n).\n",
    "- Initially, let p equal 2, the smallest prime number.\n",
    "- Enumerate the multiples of p by counting in increments of p from 2p to n, and mark them in the list (these will be 2p, 3p, 4p, ...; the p itself should not be marked).\n",
    "- Find the smallest number in the list greater than p that is not marked. If there was no such number, stop. Otherwise, let p now equal this new number (which is the next prime), and repeat from step 3.\n",
    "\n",
    "When the algorithm terminates, the numbers remaining not marked in the list are all the primes below n.\n",
    "\n",
    "The pseudocode (also from Wikipedia) that describe this process is\n",
    "\n",
    "    input: an integer n > 1.\n",
    "    output: all prime numbers from 2 through n.\n",
    "\n",
    "    let A be an array of Boolean values, indexed by integers 2 to n,\n",
    "    initially all set to true.\n",
    "    \n",
    "    for i = 2, 3, 4, ..., not exceeding √n do\n",
    "        if A[i] is true\n",
    "            for j = i**2, i**2+i, i**2+2i, i**2+3i, ..., not exceeding n do\n",
    "                set A[j] := false\n",
    "\n",
    "    return all i such that A[i] is true.\n",
    " \n",
    "My modification to this code is to print all the prime numbers."
   ]
  },
  {
   "cell_type": "markdown",
   "id": "7b449a7d",
   "metadata": {},
   "source": [
    "## Implementation"
   ]
  },
  {
   "cell_type": "code",
   "execution_count": 1,
   "id": "f646e3c1",
   "metadata": {},
   "outputs": [],
   "source": [
    "import numpy as np\n",
    "\n",
    "## -------------------------##\n",
    "#   Sieve of Eratosthenes\n",
    "## -------------------------##\n",
    "\n",
    "\n",
    "def sieve_of_eratosthenes(number):\n",
    "    \"\"\"\n",
    "    This is an example of Google style.\n",
    "\n",
    "    Args:\n",
    "        param: int\n",
    "\n",
    "    Returns:\n",
    "        Return a list of prime numbers up to the input number\n",
    "\n",
    "    Raises:\n",
    "        KeyError: Raises an exception.\n",
    "    \"\"\"\n",
    "\n",
    "    # Verify if the input is a positive number\n",
    "    if not type(number) is int:\n",
    "        raise TypeError(\"Only integers are allowed\")\n",
    "    elif number < 0:\n",
    "        raise TypeError(\"Only positive integers are allowed\")\n",
    "\n",
    "    # Boolean list of True entries\n",
    "    boolean_list = [True] * number\n",
    "\n",
    "    # List of integers starting with 2 (smallest prime number) up to square root of n (rounded to integer)\n",
    "    number_list = list(range(2, int(np.round(number ** 1/2))))\n",
    "\n",
    "    # For every number in the list\n",
    "    for num in number_list:\n",
    "\n",
    "        # Compute the square of the number. This number will be the base to exclude other numbers\n",
    "        number_to_exclude = num ** 2\n",
    "\n",
    "        # Check if the correspondent entry in the boolean list is True\n",
    "        if boolean_list[num] == True:\n",
    "\n",
    "            # For values of number_to_exclude lesser than the target number\n",
    "            while number_to_exclude < number:\n",
    "\n",
    "                # Change the correspondent boolean_list boolean to false. This means that this number is not prime\n",
    "                boolean_list[number_to_exclude] = False\n",
    "\n",
    "                # Add the current number in the iteration\n",
    "                number_to_exclude += num\n",
    "\n",
    "        # Break from the loop if there are no more values to check\n",
    "        else:\n",
    "            pass\n",
    "\n",
    "    # Create an list of prime numbers\n",
    "    prime_list = []\n",
    "\n",
    "    # Use the boolean list to fill the list of prime numbers using the boolean_list. For each True in the list the current number is append to the list of primes\n",
    "    for num in range(2, number):\n",
    "        if boolean_list[num] == True:\n",
    "            prime_list.append(num)\n",
    "\n",
    "    # Return the list of prime numbers up to the input number\n",
    "    return prime_list"
   ]
  },
  {
   "cell_type": "code",
   "execution_count": 2,
   "id": "17d5e720",
   "metadata": {},
   "outputs": [
    {
     "name": "stderr",
     "output_type": "stream",
     "text": [
      "test_exception_negative_number_sieve_of_eratosthenes (__main__.Test_sieve_of_eratosthenes) ... ok\n",
      "test_exception_type_sieve_of_eratosthenes (__main__.Test_sieve_of_eratosthenes) ... ok\n",
      "test_output_sieve_of_eratosthenes (__main__.Test_sieve_of_eratosthenes) ... ok\n",
      "\n",
      "----------------------------------------------------------------------\n",
      "Ran 3 tests in 0.002s\n",
      "\n",
      "OK\n"
     ]
    },
    {
     "data": {
      "text/plain": [
       "<unittest.main.TestProgram at 0x1ebbaa05ee0>"
      ]
     },
     "execution_count": 2,
     "metadata": {},
     "output_type": "execute_result"
    }
   ],
   "source": [
    "import unittest\n",
    "\n",
    "# Teste with the prime list from https://oeis.org/A000040/list (that includes the first 58 prime numbers)\n",
    "\n",
    "prime_list = [2,3,5,7,11,13,17,19,23,29,31,37,41,43,47,53,59,61,67,71,73,79,83,89,97,101,103,107,109,113,127,131,137,139,149,151,157,163,167,173,179,181,191,193,197,199,211,223,227,229,233,239,241,251,257,263,269,271]\n",
    "\n",
    "class Test_sieve_of_eratosthenes(unittest.TestCase):\n",
    "    \n",
    "    def test_output_sieve_of_eratosthenes(self):\n",
    "        self.assertEqual(sieve_of_eratosthenes(272), prime_list)\n",
    "        \n",
    "    def test_exception_type_sieve_of_eratosthenes(self):\n",
    "        with self.assertRaises(TypeError):\n",
    "            sieve_of_eratosthenes('a')\n",
    "\n",
    "    def test_exception_negative_number_sieve_of_eratosthenes(self):\n",
    "        with self.assertRaises(TypeError):\n",
    "            sieve_of_eratosthenes(-1)\n",
    "        \n",
    "unittest.main(argv=[''], verbosity=2, exit=False)"
   ]
  }
 ],
 "metadata": {
  "kernelspec": {
   "display_name": "TensorFlowGPU",
   "language": "python",
   "name": "tf_gpu"
  },
  "language_info": {
   "codemirror_mode": {
    "name": "ipython",
    "version": 3
   },
   "file_extension": ".py",
   "mimetype": "text/x-python",
   "name": "python",
   "nbconvert_exporter": "python",
   "pygments_lexer": "ipython3",
   "version": "3.8.0"
  }
 },
 "nbformat": 4,
 "nbformat_minor": 5
}
