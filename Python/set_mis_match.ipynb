{
 "cells": [
  {
   "cell_type": "markdown",
   "id": "47c63b70-b8fa-42dc-b591-a94e4f893e9c",
   "metadata": {
    "tags": []
   },
   "source": [
    "\n",
    "# Set-mismatch - Leetcode\n",
    "**By** [Breno D. Chrispim](https://github.com/DChrispim)\n",
    "\n",
    "## Information \n",
    "**Taks:** You have a set of integers s, which originally contains all the numbers from 1 to n. Unfortunately, due to some error, one of the numbers in s got duplicated to another number in the set, which results in repetition of one number and loss of another number. You are given an integer array _nums_ representing the data status of this set after the error. Find the number that occurs twice and the number that is missing and return them in the form of an array.\n",
    "\n",
    "**Source for project idea:** From [Leetcode: Set-mismatch](https://leetcode.com/problems/set-mismatch)"
   ]
  },
  {
   "cell_type": "markdown",
   "id": "7b449a7d",
   "metadata": {},
   "source": [
    "## Implementation"
   ]
  },
  {
   "cell_type": "code",
<<<<<<< HEAD
   "execution_count": 2,
=======
   "execution_count": 10,
>>>>>>> ada4abea85e248ed10a7b8772ff4422e3b3e522b
   "id": "f646e3c1",
   "metadata": {},
   "outputs": [],
   "source": [
    "class set_mismatch:\n",
    "    def findErrorNums(nums):\n",
    "        missingNum, doubledNum = -1, -1\n",
    "\n",
    "        for i in range(1, len(nums)+1):\n",
    "            numOccurences = nums.count(i)\n",
    "            if numOccurences == 2:\n",
    "                doubledNum = i\n",
    "            elif numOccurences == 0:\n",
    "                missingNum = i\n",
    "\n",
    "        return [doubledNum, missingNum]"
   ]
  },
  {
   "cell_type": "code",
<<<<<<< HEAD
   "execution_count": 3,
=======
   "execution_count": 11,
>>>>>>> ada4abea85e248ed10a7b8772ff4422e3b3e522b
   "id": "17d5e720",
   "metadata": {},
   "outputs": [
    {
     "name": "stderr",
     "output_type": "stream",
     "text": [
      "test_output_set_mismatch1 (__main__.Test_set_mismatch) ... ok\n",
      "test_output_set_mismatch2 (__main__.Test_set_mismatch) ... ok\n",
      "\n",
      "----------------------------------------------------------------------\n",
<<<<<<< HEAD
      "Ran 2 tests in 0.001s\n",
=======
      "Ran 2 tests in 0.002s\n",
>>>>>>> ada4abea85e248ed10a7b8772ff4422e3b3e522b
      "\n",
      "OK\n"
     ]
    },
    {
     "data": {
      "text/plain": [
<<<<<<< HEAD
       "<unittest.main.TestProgram at 0x1d7e6206f10>"
      ]
     },
     "execution_count": 3,
=======
       "<unittest.main.TestProgram at 0x1af46b71e50>"
      ]
     },
     "execution_count": 11,
>>>>>>> ada4abea85e248ed10a7b8772ff4422e3b3e522b
     "metadata": {},
     "output_type": "execute_result"
    }
   ],
   "source": [
    "import unittest\n",
    "\n",
    "class Test_set_mismatch(unittest.TestCase):\n",
    "\n",
    "    set_mismatch = set_mismatch()\n",
    "\n",
    "    def test_output_set_mismatch1(self):\n",
    "        self.assertEqual(set_mismatch.findErrorNums(nums = [1,2,2,4]), [2,3])\n",
    "    \n",
    "    def test_output_set_mismatch2(self):\n",
    "        self.assertEqual(set_mismatch.findErrorNums(nums = [1,1]), [1,2])\n",
    "\n",
    "unittest.main(argv=[''], verbosity=2, exit=False)"
   ]
  }
 ],
 "metadata": {
  "kernelspec": {
   "display_name": "TensorFlowGPU",
   "language": "python",
   "name": "tf_gpu"
  },
  "language_info": {
   "codemirror_mode": {
    "name": "ipython",
    "version": 3
   },
   "file_extension": ".py",
   "mimetype": "text/x-python",
   "name": "python",
   "nbconvert_exporter": "python",
   "pygments_lexer": "ipython3",
   "version": "3.8.0"
  }
 },
 "nbformat": 4,
 "nbformat_minor": 5
}
