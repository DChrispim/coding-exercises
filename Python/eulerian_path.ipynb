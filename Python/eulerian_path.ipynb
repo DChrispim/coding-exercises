{
 "cells": [
  {
   "cell_type": "markdown",
   "id": "e4b3b1cf-39a9-4934-a029-06cb527dd926",
   "metadata": {},
   "source": [
    "# Eulerian Path\n",
    "**By** [Breno D. Chrispim](https://github.com/DChrispim)\n",
    "\n",
    "## Information \n",
    "**Task:** Create a program which will take as an input a graph and output either a Eulerian path or a Eulerian cycle, or state that it is not possible. A Eulerian Path starts at one node and traverses every edge of a graph through every node and finishes at another node. A Eulerian cycle is a eulerian Path that starts and finishes at the same node. **Note:** I wrote this code when I started learning OOP, but before studying concepts such as clean code and level of abstraction. Thus, this code has some problems in this sense.\n",
    "\n",
    "**Source for project idea:** Final Capstone project from the Udemy's course [2022 Complete Python Bootcamp From Zero to Hero in Python](https://www.udemy.com/course/complete-python-bootcamp/). The suggestions can be found at [Projects](http://nbviewer.ipython.org/github/jmportilla/Complete-Python-Bootcamp/blob/master/Final%20Capstone%20Projects/Final%20Capstone%20Project%20Ideas.ipynb) and ware written by various users in Python. Other sources used in this project are: \n",
    "\n",
    "- https://algorithms.discrete.ma.tum.de/graph-algorithms/hierholzer/index_en.html\n",
    "- https://rpruim.github.io/m252/S19/from-class/graphs/introduction-to-graphs.html\n",
    "- https://stackoverflow.com/questions/17467228/looking-for-algorithm-finding-euler-path\n",
    "- https://www.geeksforgeeks.org/eulerian-path-and-circuit/\n",
    "- http://www.graph-magics.com/articles/euler.php\n",
    "- https://thispointer.com/count-number-of-true-elements-in-a-numpy-array-in-python/\n",
    "\n",
    "## Code Explanation\n",
    "\n",
    "The code works using the class called Euler_map. The methods available are:\n",
    "\n",
    "- Add a vertex with coordinates x and y with add_vertex(x, y);\n",
    "- Remove a vertex with coordinates x and y with remove_vertex(x, y). This removes all edges linked to that vertex;\n",
    "- Add an edge to the map, linking the vertices (x1,y1) and (x2,y2) (each one as list) with add_edge([x1,y1], [x2, y2]);\n",
    "- Remove an edge to the map, that links two vertices (x1,y1) and (x2,y2) with remove_vertex([x1,y1], [x2, y2]);\n",
    "- A list of vertex and edges is returned when the print call is done on the class;\n",
    "- Show the current map using the show method;\n",
    "- Show the map and number of connections using the method describe_map;\n",
    "- To inquire if the current map either an Eulerian path or an Eulerian cycle, or state that it is not possible, use the method Eulerian.\n",
    "\n",
    "Beyond those methods, the build in method count_number_of_edges returns two information, the list describing the number of connections of each vertex and a list with string entries describing the vertex and the number of connections it has. This method is used internally for the describe_map and Eulerian."
   ]
  },
  {
   "cell_type": "markdown",
   "id": "d539503e",
   "metadata": {},
   "source": [
    "## Implementation"
   ]
  },
  {
   "cell_type": "code",
   "execution_count": 2,
   "id": "de9ed63a",
   "metadata": {},
   "outputs": [],
   "source": [
    "import matplotlib.pyplot as plt\n",
    "import numpy as np\n",
    "\n",
    "#-----------------#\n",
    "# Euler Map class\n",
    "#-----------------#\n",
    "class Euler_Map:\n",
    "    \n",
    "    # Initiate vertices and edges sets\n",
    "    def __init__(self, vertices_list = [], edges_list = []):\n",
    "        self.vertices_list = set(vertices_list)               # Set is used simplify the show method\n",
    "        self.edges_list = edges_list                          # List of edges\n",
    "        \n",
    "    # Return string with resume of the Euler_Map class\n",
    "    def __str__(self):\n",
    "        return \"This map contains:\\n Vertex %s \\n Edges %s\" %(self.vertices_list, self.edges_list)\n",
    "        \n",
    "    # Method to add a vertex to the map\n",
    "    def add_vertex(self,x_position,y_position):\n",
    "        \"\"\"\n",
    "        Add a vertex with position (x_position,y_position) to the map.\n",
    "        \"\"\"\n",
    "        \n",
    "        # Append the coordinates to the vertices_list\n",
    "        self.vertices_list.add((x_position,y_position))\n",
    "        \n",
    "    # Method to remove a vertex from the map\n",
    "    def remove_vertex(self,x_position,y_position):\n",
    "        \"\"\"\n",
    "        Remove a vertex of position (x_position,y_position) from the map.\n",
    "        \"\"\"\n",
    "        \n",
    "        # Test if the given x_position and y_position are in the vertex list\n",
    "        if (x_position,y_position) not in self.vertices_list:\n",
    "            return print(\"This is vertex is not in the map.\")\n",
    "        \n",
    "        # If the vertex is valid then we remove from the vertice and edge list.\n",
    "        else:\n",
    "            vertex = [x_position,y_position]             # Call the vertex\n",
    "            count_vertex = self.edges_list.count(vertex) # Count the frequency of the vertex in the edge list\n",
    "            count = 0                                    # Initial count of vertex to remove from edge list\n",
    "            \n",
    "            while count < count_vertex:\n",
    "                \n",
    "                # The for loop goes in incrementes of two end verify if a pair of index is equal to the vertex,\n",
    "                # if the vertex is found the pair is removed to ensure that the vertex has no connections.\n",
    "                # Notice that the list is reversed to ensure that no problem with the range after a iten is pop \n",
    "                # from the edge list.\n",
    "                for i in list(range(0,len(self.edges_list),2))[::-1]:\n",
    "                    if (self.edges_list[i] == vertex) or (Euler_map_1.edges_list[i+1] == vertex):\n",
    "                        self.edges_list.pop(i+1)\n",
    "                        self.edges_list.pop(i)\n",
    "                        count += 1\n",
    "            \n",
    "            # Finally remove the vertex from the vertices list\n",
    "            self.vertices_list.remove((x_position,y_position))\n",
    "\n",
    "    # Method to add a edge to the map. The map has no direction so the order of coordenates does not matter\n",
    "    def add_edge(self,coordenate_vertex1,coordenate_vertex2):\n",
    "        \"\"\"\n",
    "        Add an edge to the map that links the vertices coordenate_vertex1=[x1,y1] and coordenate_vertex2[x2,y2].\n",
    "        \"\"\" \n",
    "        \n",
    "        # Append both coordinates (in order) to the edges_list\n",
    "        self.edges_list.append((coordenate_vertex1))\n",
    "        self.edges_list.append((coordenate_vertex2))\n",
    "\n",
    "    # Method to remove a edge from the map\n",
    "    def remove_edge(self,coordenate_vertex1,coordenate_vertex2):\n",
    "        \"\"\"\n",
    "        Remove an edge from the map that links the vertices coordenate_vertex1=[x1,y1] and coordenate_vertex2[x2,y2].\n",
    "        \"\"\" \n",
    "        \n",
    "        # Test if the given x_position and y_position are in the vertex list\n",
    "        \n",
    "        # Unpack the input coordinates\n",
    "        x1, y1 = coordenate_vertex1\n",
    "        x2, y2 = coordenate_vertex2\n",
    "        \n",
    "        # Test if the coordinates are in the map, returns a string if there is not\n",
    "        for vertex in [(x1, y1),(x2, y2)]:\n",
    "            if vertex not in self.vertices_list:\n",
    "                return print(\"The vertex {} is not in the map.\".format(vertex))\n",
    "        \n",
    "        # The for loop goes in incrementes of two. When the vertex is found in the pair, both are remover\n",
    "        # to ensure that the vertex has no connections. The process goes on the full list to remove all\n",
    "        # connections. Notice that the list is reversed to ensure that no problem with the range after\n",
    "        # a iten is pop from the edge of the list.\n",
    "        for i in list(range(0,len(self.edges_list),2)):\n",
    "            if (coordenate_vertex1 in self.edges_list[i:i+2]) and (coordenate_vertex2 in self.edges_list[i:i+2]):\n",
    "                self.edges_list.pop(i+1)\n",
    "                self.edges_list.pop(i)\n",
    "    \n",
    "    # Method to count how many edges are connected to a given vertex\n",
    "    def count_number_of_edges(self):\n",
    "        \"\"\"\n",
    "        Build in method that returns two information, the list describing the number of connections of \n",
    "        each vertex and a list with string entries describing the vertex and the number of connections it has.\n",
    "        \"\"\" \n",
    "        \n",
    "        # Create two lists to internal use of the function\n",
    "        number_connections = []         # List with number of connections\n",
    "        text_number_of_connections = [] # List describing the number of connections\n",
    "        \n",
    "        # Iterate on the vertice list. Count (and append to number_connections) the number of times a vertex appear in the\n",
    "        # edge list. This is the number of connections that given vertex has. Create an list of string with the information\n",
    "        # of the vertex coordinate and the number of connections.\n",
    "        for x,y in self.vertices_list:\n",
    "            number_connections.append(self.edges_list.count([x,y]))        \n",
    "            text_number_of_connections.append(\"The vertice ({},{}) has {} connections\".format(x,y,self.edges_list.count([x,y])))\n",
    "        \n",
    "        # Returns both lists\n",
    "        return number_connections, text_number_of_connections\n",
    "    \n",
    "        \n",
    "    # Method to return if the current map either an Eulerian path, cycle or not.\n",
    "    def Eulerian(self):\n",
    "        \"\"\"\n",
    "        Method to return if the current map either an Eulerian path or an Eulerian cycle, or state that it is not possible.\n",
    "        \"\"\" \n",
    "        \n",
    "        # Call count_number_of_edges to compute number_connections for the map\n",
    "        number_connections, text_number_of_connections = self.count_number_of_edges()\n",
    "           \n",
    "        # Compute the number of odd and even vertices\n",
    "        total_even_vertex = (np.array(number_connections) % 2 == 0).sum() # Compute the sum of a boolean list of even items comparisons\n",
    "        total_odd_vertex = len(number_connections) - total_even_vertex    # Subtract the length of the list to return the total number of odd vertices.\n",
    "\n",
    "        # If any edge has zero connections then the product is zero.\n",
    "        # The map is not connected ---> No Euler path or cycle\n",
    "        if np.array(number_connections).prod() == 0:\n",
    "            print(\"The map has a vertex with zero connections. No Euler path or cycle is possible.\")\n",
    "            print(\"Remove the vertex with the method remove_vertex.\")\n",
    "\n",
    "        # If all vertices have an even number of connections the graph is cycle\n",
    "        elif len(number_connections) == total_even_vertex:\n",
    "            print(\"The map has a Euler cycle. All vertices have an even number of edges.\")   \n",
    "\n",
    "        # If the map has zero of two odd vertices than an Euler path is possible.\n",
    "        elif (total_odd_vertex == 0) or (total_odd_vertex == 2):\n",
    "            print(\"The map has a Euler path.\")\n",
    "\n",
    "        # Else, no Euler path or cycle is possible\n",
    "        else:\n",
    "            print(\"No Euler path or cycle is possible.\")\n",
    "    \n",
    "    # Method to show the current map\n",
    "    def show(self):\n",
    "        \"\"\"\n",
    "        Method to plot the current map\n",
    "        \"\"\" \n",
    "        \n",
    "        ## Vertices lists\n",
    "        \n",
    "        # Create the list to get the maximun point for the plot\n",
    "        x_list = []\n",
    "        y_list = []\n",
    "        \n",
    "        # Extract the x and y points\n",
    "        for point in self.vertices_list:\n",
    "            x_list.append(point[0])\n",
    "            y_list.append(point[1])\n",
    "            \n",
    "        # Sort the list to get the maximum value at the end\n",
    "        x_list.sort()\n",
    "        y_list.sort()\n",
    "\n",
    "        ## Construct grid using meshgrid\n",
    "        # coordinates: standard indexing is yx. \n",
    "        # Notice that there is an increment of one unit to better view the map\n",
    "        coords = np.array(np.meshgrid(np.arange(0, y_list[-1]+1),\n",
    "                                      np.arange(0, x_list[-1]+1)\n",
    "                                      ))\n",
    "        ## Edge list\n",
    "        edge_x_list = []\n",
    "        edge_y_list = []\n",
    "        for edge_x, edge_y in self.edges_list:\n",
    "            edge_x_list.append(edge_x)\n",
    "            edge_y_list.append(edge_y)\n",
    "            \n",
    "        # Plot the base points for the map\n",
    "        plt.scatter(coords[1],coords[0], color = \"lightgray\")\n",
    "        plt.xticks(list(range(0,x_list[-1]+1)),[str(i) for i in range(0,x_list[-1]+1)])\n",
    "        plt.yticks(list(range(0,y_list[-1]+1)),[str(i) for i in range(0,y_list[-1]+1)])\n",
    "        \n",
    "        # Plot the edges\n",
    "        for i in range(0,len(edge_x_list),2):\n",
    "            plt.plot(edge_x_list[i:i+2], edge_y_list[i:i+2], 'bo', linestyle=\"--\")\n",
    "        \n",
    "        # Plot the map vertices\n",
    "        for vertice in self.vertices_list:\n",
    "            x, y = vertice\n",
    "            plt.scatter(x,y, s = 100)\n",
    "\n",
    "    # Method to show the map and number of connections\n",
    "    def describe_map(self):\n",
    "        \"\"\"\n",
    "        Method to show the map and number of connections\n",
    "        \"\"\"         \n",
    "        # Call the build in method count_number_of_edges to define text_number_of_connections\n",
    "        number_connections, text_number_of_connections = self.count_number_of_edges()\n",
    "        \n",
    "        # Iterate the list text_number_of_connections\n",
    "        for msg in text_number_of_connections:\n",
    "            print(msg)\n",
    "        \n",
    "        # Call the build in method show to print the current map\n",
    "        self.show()\n",
    "#-----------------#\n",
    "#       End\n",
    "#-----------------#"
   ]
  },
  {
   "cell_type": "markdown",
   "id": "ff8cf93d-b957-497c-ad63-98b73206d052",
   "metadata": {},
   "source": [
    "## Examples of use"
   ]
  },
  {
   "cell_type": "code",
   "execution_count": 9,
   "id": "8f42543a",
   "metadata": {},
   "outputs": [
    {
     "name": "stdout",
     "output_type": "stream",
     "text": [
      "This map contains:\n",
      " Vertex {(0, 1), (0, 0), (1, 1), (0, 2), (1, 0)} \n",
      " Edges [[0, 0], [1, 0], [1, 0], [1, 1], [1, 1], [0, 1], [0, 1], [0, 0], [0, 2], [0, 1]]\n",
      "The description of the map is:\n",
      "The vertice (0,1) has 3 connections\n",
      "The vertice (0,0) has 2 connections\n",
      "The vertice (1,1) has 2 connections\n",
      "The vertice (0,2) has 1 connections\n",
      "The vertice (1,0) has 2 connections\n",
      "If you only whant to show the map use the method show\n",
      "To see if the map is has a Eulerian path, cycle or not use the method Eulerian\n",
      "The map has a Euler path.\n"
     ]
    },
    {
     "data": {
      "image/png": "[encoded data removed]",
      "text/plain": [
       "<Figure size 432x288 with 1 Axes>"
      ]
     },
     "metadata": {
      "needs_background": "light"
     },
     "output_type": "display_data"
    }
   ],
   "source": [
    "# Crete the map\n",
    "\n",
    "Euler_map_1 = Euler_Map(vertices_list = [], edges_list = [])\n",
    "\n",
    "# Vertice points\n",
    "\n",
    "Euler_map_1.add_vertex(0,0)\n",
    "Euler_map_1.add_vertex(1,0)\n",
    "Euler_map_1.add_vertex(1,1)\n",
    "Euler_map_1.add_vertex(0,1)\n",
    "Euler_map_1.add_vertex(0,2)\n",
    "\n",
    "# Edge connections\n",
    "\n",
    "Euler_map_1.add_edge([0,0],[1,0])\n",
    "Euler_map_1.add_edge([1,0],[1,1])\n",
    "Euler_map_1.add_edge([1,1],[0,1])\n",
    "Euler_map_1.add_edge([0,1],[0,0])\n",
    "Euler_map_1.add_edge([0,2],[0,1])\n",
    "\n",
    "# A list of vertex and edges is returned when the print call is done on the class;\n",
    "print(Euler_map_1)\n",
    "# Describe shows the numebr of connections of each point and the plot (based on the method call count_number_of_edges)\n",
    "print(\"The description of the map is:\")\n",
    "Euler_map_1.describe_map()\n",
    "print(\"If you only whant to show the map use the method show\")\n",
    "Euler_map_1.show()\n",
    "print(\"To see if the map is has a Eulerian path, cycle or not use the method Eulerian\")\n",
    "Euler_map_1.Eulerian()\n"
   ]
  },
  {
   "cell_type": "code",
   "execution_count": 10,
   "id": "2aa773d4-ab2b-4403-8db3-aac269b6d383",
   "metadata": {},
   "outputs": [
    {
     "name": "stdout",
     "output_type": "stream",
     "text": [
      "The map has a Euler cycle. All vertices have an even number of edges.\n"
     ]
    },
    {
     "data": {
      "image/png": "[encoded data removed]",
      "text/plain": [
       "<Figure size 432x288 with 1 Axes>"
      ]
     },
     "metadata": {
      "needs_background": "light"
     },
     "output_type": "display_data"
    }
   ],
   "source": [
    "# You can remove a vertex using the method\n",
    "Euler_map_1.remove_vertex(0,2)\n",
    "# Again we can see if the map has Eulerian path, cycle or not\n",
    "Euler_map_1.Eulerian()\n",
    "\n",
    "# The map updates when we remove any element\n",
    "Euler_map_1.show() "
   ]
  },
  {
   "cell_type": "code",
   "execution_count": 11,
   "id": "975f758b-da62-4f3d-8072-a8d7850e8f8f",
   "metadata": {},
   "outputs": [
    {
     "name": "stdout",
     "output_type": "stream",
     "text": [
      "The map has a Euler path.\n"
     ]
    },
    {
     "data": {
      "image/png": "[encoded data removed]",
      "text/plain": [
       "<Figure size 432x288 with 1 Axes>"
      ]
     },
     "metadata": {
      "needs_background": "light"
     },
     "output_type": "display_data"
    }
   ],
   "source": [
    "# You can also remove a edge from the map using the method\n",
    "Euler_map_1.remove_edge([0,0],[1,0])\n",
    "# Again we can see if the map has Eulerian path, cycle or not\n",
    "Euler_map_1.Eulerian()\n",
    "\n",
    "# The map updates when we remove any element\n",
    "Euler_map_1.show() "
   ]
  },
  {
   "cell_type": "code",
   "execution_count": 13,
   "id": "fe420b27-b64e-4f56-a15b-ab1d59544746",
   "metadata": {},
   "outputs": [
    {
     "name": "stdout",
     "output_type": "stream",
     "text": [
      "No Euler path or cycle is possible.\n"
     ]
    },
    {
     "data": {
      "image/png": "[encoded data removed]",
      "text/plain": [
       "<Figure size 432x288 with 1 Axes>"
      ]
     },
     "metadata": {
      "needs_background": "light"
     },
     "output_type": "display_data"
    }
   ],
   "source": [
    "# Removing another edge\n",
    "Euler_map_1.remove_edge([1,1],[0,1])\n",
    "# Now the map do not have an Euler path or cycle\n",
    "Euler_map_1.Eulerian()\n",
    "Euler_map_1.show() "
   ]
  }
 ],
 "metadata": {
  "kernelspec": {
   "display_name": "Python 3 (ipykernel)",
   "language": "python",
   "name": "python3"
  },
  "language_info": {
   "codemirror_mode": {
    "name": "ipython",
    "version": 3
   },
   "file_extension": ".py",
   "mimetype": "text/x-python",
   "name": "python",
   "nbconvert_exporter": "python",
   "pygments_lexer": "ipython3",
   "version": "3.9.12"
  }
 },
 "nbformat": 4,
 "nbformat_minor": 5
}
